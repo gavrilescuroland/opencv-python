{
 "cells": [
  {
   "cell_type": "code",
   "execution_count": 3,
   "metadata": {},
   "outputs": [],
   "source": [
    "# transformations \n",
    "\n",
    "import numpy as np\n",
    "import cv2 as cv\n",
    "\n",
    "img = cv.imread('pic.jpg',0)\n",
    "rows,cols = img.shape\n",
    "\n",
    "\n",
    "#scale (0.2 of original size)\n",
    "res = cv.resize(img,None,fx=0.2, fy=0.2, interpolation = cv.INTER_CUBIC)\n",
    "cv.imshow('sc',res)\n",
    "\n",
    "\n",
    "# translation (bottom right corner)\n",
    "M = np.float32([[1,0,100],[0,1,50]]) # transformation matrix\n",
    "dst = cv.warpAffine(img,M,(cols,rows))\n",
    "\n",
    "\n",
    "\n",
    "# rotation: cols-1 and rows-1 are the coordinate limits\n",
    "M = cv.getRotationMatrix2D(((cols-1)/2,(rows-1)/2),-90,1)\n",
    "dst = cv.warpAffine(img,M,(cols,rows))\n",
    "cv.imshow('img',dst)\n",
    "\n",
    "\n",
    "\n",
    "\n",
    "\n",
    "cv.waitKey(0)\n",
    "cv.destroyAllWindows()\n",
    "for i in range(5): cv.waitKey(1)"
   ]
  },
  {
   "cell_type": "code",
   "execution_count": null,
   "metadata": {},
   "outputs": [],
   "source": []
  }
 ],
 "metadata": {
  "kernelspec": {
   "display_name": "Python 3",
   "language": "python",
   "name": "python3"
  },
  "language_info": {
   "codemirror_mode": {
    "name": "ipython",
    "version": 3
   },
   "file_extension": ".py",
   "mimetype": "text/x-python",
   "name": "python",
   "nbconvert_exporter": "python",
   "pygments_lexer": "ipython3",
   "version": "3.6.7"
  }
 },
 "nbformat": 4,
 "nbformat_minor": 2
}
