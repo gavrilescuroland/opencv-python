{
 "cells": [
  {
   "cell_type": "markdown",
   "metadata": {},
   "source": [
    "# Getting Started with Images and Videos "
   ]
  },
  {
   "cell_type": "code",
   "execution_count": null,
   "metadata": {},
   "outputs": [],
   "source": [
    "# save images locally\n",
    "import numpy as np\n",
    "import cv2 as cv\n",
    "from matplotlib import pyplot as plt\n",
    "\n",
    "# load image\n",
    "img = cv.imread('pic.jpg',0)\n",
    "cv.imshow('spider',img)\n",
    "\n",
    "k = cv.waitKey(0) # wait for a key to be pressed\n",
    "\n",
    "# save \n",
    "if k == ord('s'):\n",
    "    cv.imwrite('greypic.jpg',img)\n",
    "\n",
    "# exit\n",
    "cv.destroyAllWindows()\n",
    "for i in range (1,5): cv.waitKey(1) # mac freeze fix\n",
    "    \n",
    "# visualize \n",
    "plt.imshow(img, cmap = 'gray', interpolation = 'bicubic')\n",
    "plt.xticks([]), plt.yticks([])  # hide ticks\n",
    "plt.show()"
   ]
  },
  {
   "cell_type": "code",
   "execution_count": null,
   "metadata": {},
   "outputs": [],
   "source": [
    "# open camera\n",
    "import numpy as np\n",
    "import cv2 as cv\n",
    "\n",
    "# create VideoCapture(camera) object\n",
    "cap = cv.VideoCapture(0)\n",
    "\n",
    "# # resize video window\n",
    "# ret = cap.set(cv.CAP_PROP_FRAME_WIDTH,320)\n",
    "# ret = cap.set(cv.CAP_PROP_FRAME_HEIGHT,240)\n",
    "\n",
    "# ret:boolean, frame:matrix\n",
    "while (cap.isOpened):\n",
    "    ret, frame = cap.read() # capture frame-by-frame   \n",
    "    gray = cv.cvtColor(frame, cv.COLOR_BGR2GRAY) # make it gray\n",
    "    cv.imshow('frame',gray) # display\n",
    "\n",
    "    if cv.waitKey(1) & 0xFF == ord('q'): break\n",
    "        \n",
    "cap.release()\n",
    "cv.destroyAllWindows()\n",
    "for i in range (1,5): cv.waitKey(1) # mac freeze fix"
   ]
  },
  {
   "cell_type": "code",
   "execution_count": null,
   "metadata": {},
   "outputs": [],
   "source": [
    "# save footage locally\n",
    "import numpy as np\n",
    "import cv2 as cv\n",
    "\n",
    "cap = cv.VideoCapture(0)\n",
    "\n",
    "# resize video window\n",
    "ret = cap.set(cv.CAP_PROP_FRAME_WIDTH,320)\n",
    "ret = cap.set(cv.CAP_PROP_FRAME_HEIGHT,240)\n",
    "\n",
    "# define codec\n",
    "fourcc = cv.VideoWriter_fourcc(*'MJPG') \n",
    "\n",
    "# create VideoWriter object \n",
    "out = cv.VideoWriter('output.avi',fourcc, 20.0, (640,480))\n",
    "\n",
    "while(cap.isOpened()):\n",
    "    ret, frame = cap.read()\n",
    "    \n",
    "    if ret == True:\n",
    "        frame = cv.flip(frame,0) # flip frame\n",
    "        out.write(frame)\n",
    "        cv.imshow('frame',frame)\n",
    "        if cv.waitKey(1) & 0xFF == ord('q'): break\n",
    "    else:\n",
    "        break\n",
    "        \n",
    "\n",
    "cap.release()\n",
    "out.release()\n",
    "cv.destroyAllWindows()\n",
    "for i in range (1,5): cv.waitKey(1) # mac freeze fix"
   ]
  },
  {
   "cell_type": "code",
   "execution_count": null,
   "metadata": {},
   "outputs": [],
   "source": []
  }
 ],
 "metadata": {
  "kernelspec": {
   "display_name": "Python 3",
   "language": "python",
   "name": "python3"
  },
  "language_info": {
   "codemirror_mode": {
    "name": "ipython",
    "version": 3
   },
   "file_extension": ".py",
   "mimetype": "text/x-python",
   "name": "python",
   "nbconvert_exporter": "python",
   "pygments_lexer": "ipython3",
   "version": "3.6.7"
  }
 },
 "nbformat": 4,
 "nbformat_minor": 2
}
